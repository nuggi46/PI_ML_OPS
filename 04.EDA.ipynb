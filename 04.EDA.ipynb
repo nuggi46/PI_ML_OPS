{
 "cells": [
  {
   "cell_type": "markdown",
   "metadata": {},
   "source": [
    "## Análisis Exploratorio de Datos EDA"
   ]
  },
  {
   "cell_type": "markdown",
   "metadata": {},
   "source": [
    "Se realiza el Análisis Exploratorio de Datos `EDA` para cada dataset generado a partir del `ETL` en cada uno de los casos. \n",
    "Una vez analizados, se obtendrá una visión más completa para poder decidir cuales serán las features destinadas a entrenar el modelo de recomendación. "
   ]
  },
  {
   "cell_type": "code",
   "execution_count": 1,
   "metadata": {},
   "outputs": [],
   "source": [
    "#Importando librerias\n",
    "import pandas as pd\n",
    "import matplotlib.pyplot as plt\n",
    "import seaborn as sns\n"
   ]
  },
  {
   "cell_type": "markdown",
   "metadata": {},
   "source": [
    "### EDA de steam_games"
   ]
  },
  {
   "cell_type": "markdown",
   "metadata": {},
   "source": [
    "1. Extracción de datos"
   ]
  },
  {
   "cell_type": "code",
   "execution_count": 7,
   "metadata": {},
   "outputs": [
    {
     "data": {
      "text/html": [
       "<div>\n",
       "<style scoped>\n",
       "    .dataframe tbody tr th:only-of-type {\n",
       "        vertical-align: middle;\n",
       "    }\n",
       "\n",
       "    .dataframe tbody tr th {\n",
       "        vertical-align: top;\n",
       "    }\n",
       "\n",
       "    .dataframe thead th {\n",
       "        text-align: right;\n",
       "    }\n",
       "</style>\n",
       "<table border=\"1\" class=\"dataframe\">\n",
       "  <thead>\n",
       "    <tr style=\"text-align: right;\">\n",
       "      <th></th>\n",
       "      <th>item_id</th>\n",
       "      <th>app_name</th>\n",
       "      <th>title</th>\n",
       "      <th>genres</th>\n",
       "      <th>Año de lanzamiento</th>\n",
       "      <th>publisher</th>\n",
       "      <th>developer</th>\n",
       "      <th>specs</th>\n",
       "      <th>price</th>\n",
       "    </tr>\n",
       "  </thead>\n",
       "  <tbody>\n",
       "    <tr>\n",
       "      <th>0</th>\n",
       "      <td>761140</td>\n",
       "      <td>Lost Summoner Kitty</td>\n",
       "      <td>Lost Summoner Kitty</td>\n",
       "      <td>Action</td>\n",
       "      <td>2018</td>\n",
       "      <td>Kotoshiro</td>\n",
       "      <td>Kotoshiro</td>\n",
       "      <td>['Single-player']</td>\n",
       "      <td>4.99</td>\n",
       "    </tr>\n",
       "    <tr>\n",
       "      <th>1</th>\n",
       "      <td>761140</td>\n",
       "      <td>Lost Summoner Kitty</td>\n",
       "      <td>Lost Summoner Kitty</td>\n",
       "      <td>Casual</td>\n",
       "      <td>2018</td>\n",
       "      <td>Kotoshiro</td>\n",
       "      <td>Kotoshiro</td>\n",
       "      <td>['Single-player']</td>\n",
       "      <td>4.99</td>\n",
       "    </tr>\n",
       "  </tbody>\n",
       "</table>\n",
       "</div>"
      ],
      "text/plain": [
       "   item_id             app_name                title  genres  \\\n",
       "0   761140  Lost Summoner Kitty  Lost Summoner Kitty  Action   \n",
       "1   761140  Lost Summoner Kitty  Lost Summoner Kitty  Casual   \n",
       "\n",
       "   Año de lanzamiento  publisher  developer              specs price  \n",
       "0                2018  Kotoshiro  Kotoshiro  ['Single-player']  4.99  \n",
       "1                2018  Kotoshiro  Kotoshiro  ['Single-player']  4.99  "
      ]
     },
     "execution_count": 7,
     "metadata": {},
     "output_type": "execute_result"
    }
   ],
   "source": [
    "games_1= pd.read_csv('data/steam_6_modelo.csv', encoding='utf8')\n",
    "games_1.head(2)"
   ]
  },
  {
   "cell_type": "markdown",
   "metadata": {},
   "source": [
    "2. Exploración de datos"
   ]
  },
  {
   "cell_type": "code",
   "execution_count": 8,
   "metadata": {},
   "outputs": [
    {
     "name": "stdout",
     "output_type": "stream",
     "text": [
      "<class 'pandas.core.frame.DataFrame'>\n",
      "RangeIndex: 74833 entries, 0 to 74832\n",
      "Data columns (total 9 columns):\n",
      " #   Column              Non-Null Count  Dtype \n",
      "---  ------              --------------  ----- \n",
      " 0   item_id             74833 non-null  int64 \n",
      " 1   app_name            74831 non-null  object\n",
      " 2   title               72783 non-null  object\n",
      " 3   genres              71551 non-null  object\n",
      " 4   Año de lanzamiento  74833 non-null  int64 \n",
      " 5   publisher           59218 non-null  object\n",
      " 6   developer           71355 non-null  object\n",
      " 7   specs               73893 non-null  object\n",
      " 8   price               71487 non-null  object\n",
      "dtypes: int64(2), object(7)\n",
      "memory usage: 5.1+ MB\n"
     ]
    }
   ],
   "source": [
    "#cantidad de columnas y el tipo de datos\n",
    "games_1.info()"
   ]
  },
  {
   "cell_type": "code",
   "execution_count": 9,
   "metadata": {},
   "outputs": [
    {
     "data": {
      "text/plain": [
       "(74833, 9)"
      ]
     },
     "execution_count": 9,
     "metadata": {},
     "output_type": "execute_result"
    }
   ],
   "source": [
    "games_1.shape"
   ]
  },
  {
   "cell_type": "markdown",
   "metadata": {},
   "source": [
    "3. Revision Nulos"
   ]
  },
  {
   "cell_type": "code",
   "execution_count": 10,
   "metadata": {},
   "outputs": [
    {
     "data": {
      "text/plain": [
       "item_id                   0\n",
       "app_name                  2\n",
       "title                  2050\n",
       "genres                 3282\n",
       "Año de lanzamiento        0\n",
       "publisher             15615\n",
       "developer              3478\n",
       "specs                   940\n",
       "price                  3346\n",
       "dtype: int64"
      ]
     },
     "execution_count": 10,
     "metadata": {},
     "output_type": "execute_result"
    }
   ],
   "source": [
    "games_1.isnull().sum()"
   ]
  },
  {
   "cell_type": "code",
   "execution_count": 11,
   "metadata": {},
   "outputs": [
    {
     "data": {
      "text/html": [
       "<div>\n",
       "<style scoped>\n",
       "    .dataframe tbody tr th:only-of-type {\n",
       "        vertical-align: middle;\n",
       "    }\n",
       "\n",
       "    .dataframe tbody tr th {\n",
       "        vertical-align: top;\n",
       "    }\n",
       "\n",
       "    .dataframe thead th {\n",
       "        text-align: right;\n",
       "    }\n",
       "</style>\n",
       "<table border=\"1\" class=\"dataframe\">\n",
       "  <thead>\n",
       "    <tr style=\"text-align: right;\">\n",
       "      <th></th>\n",
       "      <th>item_id</th>\n",
       "      <th>Año de lanzamiento</th>\n",
       "      <th>specs</th>\n",
       "      <th>price</th>\n",
       "      <th>publisher</th>\n",
       "      <th>app_name</th>\n",
       "      <th>developer</th>\n",
       "      <th>genres</th>\n",
       "      <th>title</th>\n",
       "    </tr>\n",
       "  </thead>\n",
       "  <tbody>\n",
       "    <tr>\n",
       "      <th>0</th>\n",
       "      <td>761140</td>\n",
       "      <td>2018</td>\n",
       "      <td>['Single-player']</td>\n",
       "      <td>4.99</td>\n",
       "      <td>Kotoshiro</td>\n",
       "      <td>Lost Summoner Kitty</td>\n",
       "      <td>Kotoshiro</td>\n",
       "      <td>Action</td>\n",
       "      <td>Lost Summoner Kitty</td>\n",
       "    </tr>\n",
       "    <tr>\n",
       "      <th>1</th>\n",
       "      <td>761140</td>\n",
       "      <td>2018</td>\n",
       "      <td>['Single-player']</td>\n",
       "      <td>4.99</td>\n",
       "      <td>Kotoshiro</td>\n",
       "      <td>Lost Summoner Kitty</td>\n",
       "      <td>Kotoshiro</td>\n",
       "      <td>Casual</td>\n",
       "      <td>Lost Summoner Kitty</td>\n",
       "    </tr>\n",
       "  </tbody>\n",
       "</table>\n",
       "</div>"
      ],
      "text/plain": [
       "   item_id  Año de lanzamiento              specs price  publisher  \\\n",
       "0   761140                2018  ['Single-player']  4.99  Kotoshiro   \n",
       "1   761140                2018  ['Single-player']  4.99  Kotoshiro   \n",
       "\n",
       "              app_name  developer  genres                title  \n",
       "0  Lost Summoner Kitty  Kotoshiro  Action  Lost Summoner Kitty  \n",
       "1  Lost Summoner Kitty  Kotoshiro  Casual  Lost Summoner Kitty  "
      ]
     },
     "execution_count": 11,
     "metadata": {},
     "output_type": "execute_result"
    }
   ],
   "source": [
    "#inicio un archivo con las columnas que tengo que reemplazar nulos\n",
    "archivo_columnas=[\"publisher\", \"app_name\",\"developer\",\"genres\",'title']\n",
    "\n",
    "#genero un dataframe con las columnas y sus nulos reemplazados por \"Sin Datos\"\n",
    "nulos= games_1[archivo_columnas].fillna(\"Sin Datos\")\n",
    "\n",
    "#elimino las colummas a reemplazar y concateno ambos dataframes \n",
    "games_2 = pd.concat([games_1.drop(archivo_columnas, axis=1), nulos], axis=1)\n",
    "games_2.head(2)"
   ]
  },
  {
   "cell_type": "code",
   "execution_count": 13,
   "metadata": {},
   "outputs": [],
   "source": [
    "# se define una función para poder reemplazar los datos string de la columna \"price\" por flotantes 0.0\n",
    "\n",
    "def cambio_a_float(valor):\n",
    "\n",
    "    if pd.isna(valor): #esta parte de la función es para el caso de que no exista ningun string o float en el campo\n",
    "        return 0.0\n",
    "    try:\n",
    "        flotante = float(valor) #si el valor es float lo conservo\n",
    "        return flotante\n",
    "    except (ValueError, TypeError): #si el valor es diferente retorno 0.0\n",
    "        return 0.0\n",
    "    \n",
    "#Aplico esta función a la columna precio\n",
    "games_2[\"price\"] = games_2[\"price\"].apply(cambio_a_float)"
   ]
  },
  {
   "cell_type": "code",
   "execution_count": 14,
   "metadata": {},
   "outputs": [
    {
     "data": {
      "text/plain": [
       "item_id                 0\n",
       "Año de lanzamiento      0\n",
       "specs                 940\n",
       "price                   0\n",
       "publisher               0\n",
       "app_name                0\n",
       "developer               0\n",
       "genres                  0\n",
       "title                   0\n",
       "dtype: int64"
      ]
     },
     "execution_count": 14,
     "metadata": {},
     "output_type": "execute_result"
    }
   ],
   "source": [
    "games_2.isnull().sum()"
   ]
  },
  {
   "cell_type": "markdown",
   "metadata": {},
   "source": [
    "4.Tratamiento variables"
   ]
  },
  {
   "cell_type": "markdown",
   "metadata": {},
   "source": [
    "obs: Se modificaran las variables para realizar gráficos sobre los mismos\n",
    "* **genres** : genero del juego\n",
    "* **item_id**: identificador único del juego\n",
    "* **release_anio**: año en que se estreno\n",
    "* **publisher**: editor del juego\n",
    "* **app_name**: nombre de la aplicación\n",
    "* **title**: nombre del juego \n",
    "* **developer**: desarrollador"
   ]
  },
  {
   "cell_type": "markdown",
   "metadata": {},
   "source": [
    "4.1 Genero"
   ]
  },
  {
   "cell_type": "code",
   "execution_count": 16,
   "metadata": {},
   "outputs": [
    {
     "data": {
      "text/plain": [
       "<bound method Series.to_frame of Indie                        15858\n",
       "Action                       11319\n",
       "Casual                        8282\n",
       "Adventure                     8242\n",
       "Strategy                      6957\n",
       "Simulation                    6699\n",
       "RPG                           5479\n",
       "Sin Datos                     3282\n",
       "Free to Play                  2031\n",
       "Early Access                  1462\n",
       "Sports                        1257\n",
       "Massively Multiplayer         1108\n",
       "Racing                        1083\n",
       "Design &amp; Illustration      460\n",
       "Utilities                      340\n",
       "Web Publishing                 268\n",
       "Animation &amp; Modeling       183\n",
       "Education                      125\n",
       "Video Production               116\n",
       "Software Training              105\n",
       "Audio Production                93\n",
       "Photo Editing                   77\n",
       "Accounting                       7\n",
       "Name: genres, dtype: int64>"
      ]
     },
     "execution_count": 16,
     "metadata": {},
     "output_type": "execute_result"
    }
   ],
   "source": [
    "#se contabilizan los diferentes generos de juegos Steam\n",
    "cantidad_generos= games_2[\"genres\"].value_counts()\n",
    "cantidad_generos.to_frame"
   ]
  },
  {
   "cell_type": "code",
   "execution_count": 20,
   "metadata": {},
   "outputs": [
    {
     "data": {
      "image/png": "[encoded data removed]",
      "text/plain": [
       "<Figure size 864x576 with 1 Axes>"
      ]
     },
     "metadata": {
      "needs_background": "light"
     },
     "output_type": "display_data"
    }
   ],
   "source": [
    "plt.figure(figsize=(12, 8))\n",
    "sns.countplot(data=games_2, y='genres', orient='h', palette=(\"cubehelix\"))\n",
    "plt.show()"
   ]
  },
  {
   "cell_type": "markdown",
   "metadata": {},
   "source": [
    "Obs: Sin distinguir tipos de juegos, año de lanzamiento, review entre otros, en total el genero que más se repite es Indie, seguido por action"
   ]
  },
  {
   "cell_type": "markdown",
   "metadata": {},
   "source": [
    "4.2 Año de lanzamiento"
   ]
  },
  {
   "cell_type": "code",
   "execution_count": 22,
   "metadata": {},
   "outputs": [
    {
     "data": {
      "text/plain": [
       "2017    25509\n",
       "2016    17935\n",
       "2015    12423\n",
       "2014     6471\n",
       "2013     3091\n",
       "0        2386\n",
       "2012     2161\n",
       "2011     1035\n",
       "2010      706\n",
       "2009      513\n",
       "2018      503\n",
       "2008      351\n",
       "2007      277\n",
       "2006      230\n",
       "2005      149\n",
       "2003      128\n",
       "2001      119\n",
       "2004      107\n",
       "1999       87\n",
       "1998       86\n",
       "2002       70\n",
       "1997       67\n",
       "1996       60\n",
       "2000       60\n",
       "1994       56\n",
       "1995       51\n",
       "1993       49\n",
       "1992       26\n",
       "1991       26\n",
       "1990       16\n",
       "1989       14\n",
       "2019       13\n",
       "1988       11\n",
       "1987       10\n",
       "1984        7\n",
       "1983        6\n",
       "1986        5\n",
       "1985        3\n",
       "1982        3\n",
       "1981        3\n",
       "2021        3\n",
       "5275        3\n",
       "1970        2\n",
       "1975        1\n",
       "1980        1\n",
       "Name: Año de lanzamiento, dtype: int64"
      ]
     },
     "execution_count": 22,
     "metadata": {},
     "output_type": "execute_result"
    }
   ],
   "source": [
    "cantidad_juegos_anios= games_2[\"Año de lanzamiento\"].value_counts()\n",
    "cantidad_juegos_anios #en el 2017 fue el año con más juegos y hay un caso 5275 que seguramente es dato mal cargado o error de parte nuestra"
   ]
  },
  {
   "cell_type": "code",
   "execution_count": 25,
   "metadata": {},
   "outputs": [
    {
     "data": {
      "image/png": "[encoded data removed]",
      "text/plain": [
       "<Figure size 1008x360 with 1 Axes>"
      ]
     },
     "metadata": {
      "needs_background": "light"
     },
     "output_type": "display_data"
    }
   ],
   "source": [
    "cantidad_juegos_anios= cantidad_juegos_anios.sort_index()\n",
    "\n",
    "plt.figure(figsize=(14, 5))\n",
    "\n",
    "sns.barplot(x=cantidad_juegos_anios.index, y=cantidad_juegos_anios.values, palette=(\"Set2\"))\n",
    "plt.xlabel('Año de lanzamiento') ; plt.ylabel('Cantidad de Juegos') ; plt.title('Cantidad de Juegos por Año de lanzamiento')\n",
    "plt.xticks(rotation=45, ha='right')\n",
    "plt.tight_layout()\n",
    "plt.show()"
   ]
  },
  {
   "cell_type": "markdown",
   "metadata": {},
   "source": [
    "Obs: los 0 y 5275 son outliers, no se consideran. A partir del año 2011 se podria decir que empezo a crecer de una manera exponecial la cantidad de juegos en la plataforma\n"
   ]
  },
  {
   "cell_type": "markdown",
   "metadata": {},
   "source": [
    "4.3 ID"
   ]
  },
  {
   "cell_type": "code",
   "execution_count": 23,
   "metadata": {},
   "outputs": [
    {
     "data": {
      "text/plain": [
       "32132"
      ]
     },
     "execution_count": 23,
     "metadata": {},
     "output_type": "execute_result"
    }
   ],
   "source": [
    "cantidad_juegos= len(games_2[\"item_id\"].unique())\n",
    "cantidad_juegos # contiene 32.132 id/juegos unicos"
   ]
  },
  {
   "cell_type": "markdown",
   "metadata": {},
   "source": [
    "4.4 Price"
   ]
  },
  {
   "cell_type": "code",
   "execution_count": 26,
   "metadata": {},
   "outputs": [
    {
     "data": {
      "image/png": "[encoded data removed]",
      "text/plain": [
       "<Figure size 576x432 with 1 Axes>"
      ]
     },
     "metadata": {
      "needs_background": "light"
     },
     "output_type": "display_data"
    }
   ],
   "source": [
    "# Crear un gráfico de dispersión \n",
    "plt.figure(figsize=(8, 6))\n",
    "sns.scatterplot(data=games_2, x='price', y='genres')\n",
    "plt.title('Gráfico de Dispersión entre precio y generos')\n",
    "plt.xlabel('price')\n",
    "plt.ylabel('genres')\n",
    "plt.show()"
   ]
  },
  {
   "cell_type": "code",
   "execution_count": 34,
   "metadata": {},
   "outputs": [
    {
     "data": {
      "text/plain": [
       "4.99      9893\n",
       "9.99      9010\n",
       "0.00      8467\n",
       "2.99      7834\n",
       "0.99      6319\n",
       "          ... \n",
       "2.89         1\n",
       "99.00        1\n",
       "599.00       1\n",
       "8.98         1\n",
       "9.00         1\n",
       "Name: price, Length: 145, dtype: int64"
      ]
     },
     "execution_count": 34,
     "metadata": {},
     "output_type": "execute_result"
    }
   ],
   "source": [
    "games_2[\"price\"].value_counts()"
   ]
  },
  {
   "cell_type": "code",
   "execution_count": 49,
   "metadata": {},
   "outputs": [
    {
     "data": {
      "text/html": [
       "<div>\n",
       "<style scoped>\n",
       "    .dataframe tbody tr th:only-of-type {\n",
       "        vertical-align: middle;\n",
       "    }\n",
       "\n",
       "    .dataframe tbody tr th {\n",
       "        vertical-align: top;\n",
       "    }\n",
       "\n",
       "    .dataframe thead th {\n",
       "        text-align: right;\n",
       "    }\n",
       "</style>\n",
       "<table border=\"1\" class=\"dataframe\">\n",
       "  <thead>\n",
       "    <tr style=\"text-align: right;\">\n",
       "      <th></th>\n",
       "      <th>item_id</th>\n",
       "      <th>app_name</th>\n",
       "      <th>price</th>\n",
       "    </tr>\n",
       "  </thead>\n",
       "  <tbody>\n",
       "    <tr>\n",
       "      <th>27997</th>\n",
       "      <td>719000</td>\n",
       "      <td>Strata Spaces VR – Professional Edition Upgrade</td>\n",
       "      <td>995.00</td>\n",
       "    </tr>\n",
       "    <tr>\n",
       "      <th>4462</th>\n",
       "      <td>292180</td>\n",
       "      <td>X-Plane 10 Global - 64 Bit</td>\n",
       "      <td>771.71</td>\n",
       "    </tr>\n",
       "    <tr>\n",
       "      <th>55936</th>\n",
       "      <td>358040</td>\n",
       "      <td>HTC Vive</td>\n",
       "      <td>599.00</td>\n",
       "    </tr>\n",
       "    <tr>\n",
       "      <th>42064</th>\n",
       "      <td>629796</td>\n",
       "      <td>EVE Online: 15400 PLEX</td>\n",
       "      <td>499.99</td>\n",
       "    </tr>\n",
       "    <tr>\n",
       "      <th>33548</th>\n",
       "      <td>691560</td>\n",
       "      <td>CUR3D Maker Edition - Permission for commercia...</td>\n",
       "      <td>499.99</td>\n",
       "    </tr>\n",
       "    <tr>\n",
       "      <th>20623</th>\n",
       "      <td>585620</td>\n",
       "      <td>GameMaker Studio 2 Mobile</td>\n",
       "      <td>399.99</td>\n",
       "    </tr>\n",
       "    <tr>\n",
       "      <th>20630</th>\n",
       "      <td>585610</td>\n",
       "      <td>GameMaker Studio 2 UWP</td>\n",
       "      <td>399.99</td>\n",
       "    </tr>\n",
       "    <tr>\n",
       "      <th>37376</th>\n",
       "      <td>689790</td>\n",
       "      <td>VEGAS Pro 15 Edit Steam Edition</td>\n",
       "      <td>399.00</td>\n",
       "    </tr>\n",
       "    <tr>\n",
       "      <th>32140</th>\n",
       "      <td>750840</td>\n",
       "      <td>MAGIX Video Pro X9 Steam Edition</td>\n",
       "      <td>399.00</td>\n",
       "    </tr>\n",
       "    <tr>\n",
       "      <th>21401</th>\n",
       "      <td>598860</td>\n",
       "      <td>MAGIX Video Pro X8 Steam Edition</td>\n",
       "      <td>399.00</td>\n",
       "    </tr>\n",
       "  </tbody>\n",
       "</table>\n",
       "</div>"
      ],
      "text/plain": [
       "       item_id                                           app_name   price\n",
       "27997   719000    Strata Spaces VR – Professional Edition Upgrade  995.00\n",
       "4462    292180                         X-Plane 10 Global - 64 Bit  771.71\n",
       "55936   358040                                           HTC Vive  599.00\n",
       "42064   629796                             EVE Online: 15400 PLEX  499.99\n",
       "33548   691560  CUR3D Maker Edition - Permission for commercia...  499.99\n",
       "20623   585620                          GameMaker Studio 2 Mobile  399.99\n",
       "20630   585610                             GameMaker Studio 2 UWP  399.99\n",
       "37376   689790                    VEGAS Pro 15 Edit Steam Edition  399.00\n",
       "32140   750840                   MAGIX Video Pro X9 Steam Edition  399.00\n",
       "21401   598860                   MAGIX Video Pro X8 Steam Edition  399.00"
      ]
     },
     "execution_count": 49,
     "metadata": {},
     "output_type": "execute_result"
    }
   ],
   "source": [
    "#puedo armar el top de juegos mas caros\n",
    "games_price= games_2[[\"item_id\",\"app_name\",\"price\"]] #dejo las columnas que necesito, porque quiero ver el item_id unico\n",
    "games_price= games_price.drop_duplicates()\n",
    "games_price.sort_values(by = ['price'], inplace=True,ascending=False)\n",
    "games_price.head(10)"
   ]
  },
  {
   "cell_type": "markdown",
   "metadata": {},
   "source": [
    "Obs: Los juegos mas caros, no se encuentran dentro de los mas generos más repetidos. El rango de precio más concetrado se encuentra entre 0 a 200 usd."
   ]
  },
  {
   "cell_type": "markdown",
   "metadata": {},
   "source": [
    "4.5 Developer"
   ]
  },
  {
   "cell_type": "code",
   "execution_count": 51,
   "metadata": {},
   "outputs": [
    {
     "data": {
      "text/plain": [
       "Sin Datos                              3478\n",
       "Ubisoft - San Francisco                2516\n",
       "SmiteWorks USA, LLC                    2364\n",
       "DL Softworks                            495\n",
       "Ronimo Games                            379\n",
       "                                       ... \n",
       "A-Flight,Caipirinha Games                 1\n",
       "Grip Digital,Terrible Posture Games       1\n",
       "Anatola Howard,Duncan Cross               1\n",
       "Simtech Vision                            1\n",
       "PIPE Studio                               1\n",
       "Name: developer, Length: 10993, dtype: int64"
      ]
     },
     "execution_count": 51,
     "metadata": {},
     "output_type": "execute_result"
    }
   ],
   "source": [
    "developer= games_2[\"developer\"].value_counts()\n",
    "developer"
   ]
  },
  {
   "cell_type": "code",
   "execution_count": 63,
   "metadata": {},
   "outputs": [
    {
     "data": {
      "text/plain": [
       "Text(0.5, 1.0, 'Top 10 Developers')"
      ]
     },
     "execution_count": 63,
     "metadata": {},
     "output_type": "execute_result"
    },
    {
     "data": {
      "image/png": "[encoded data removed]",
      "text/plain": [
       "<Figure size 720x360 with 1 Axes>"
      ]
     },
     "metadata": {
      "needs_background": "light"
     },
     "output_type": "display_data"
    }
   ],
   "source": [
    "plt.figure(figsize=(10, 5))\n",
    "developer[:10].plot(kind='bar', color='gray')\n",
    "plt.xlabel('Developer') ; plt.ylabel('Cantidad de Juegos') ; plt.title('Top 10 Developers')"
   ]
  },
  {
   "cell_type": "markdown",
   "metadata": {},
   "source": [
    "Obs:El mayor desarrollar es ubisoft, que tiene juegos como assassin's creed, mario rabbids, just dance"
   ]
  },
  {
   "cell_type": "markdown",
   "metadata": {},
   "source": [
    "4.6. Developer"
   ]
  },
  {
   "cell_type": "code",
   "execution_count": 64,
   "metadata": {},
   "outputs": [
    {
     "data": {
      "text/plain": [
       "Sin Datos                 15615\n",
       "KISS ltd                    807\n",
       "Ubisoft                     686\n",
       "Degica                      536\n",
       "Paradox Interactive         443\n",
       "                          ...  \n",
       "Itsjusta Games                1\n",
       "Bit Blot, LLC                 1\n",
       "Henri Osbourne                1\n",
       "Nostalgia Addict Games        1\n",
       "いくちおすてご                       1\n",
       "Name: publisher, Length: 8238, dtype: int64"
      ]
     },
     "execution_count": 64,
     "metadata": {},
     "output_type": "execute_result"
    }
   ],
   "source": [
    "publisher= games_2[\"publisher\"].value_counts()\n",
    "publisher"
   ]
  },
  {
   "cell_type": "code",
   "execution_count": 68,
   "metadata": {},
   "outputs": [
    {
     "data": {
      "text/plain": [
       "Text(0.5, 1.0, 'Top 10 Publishers')"
      ]
     },
     "execution_count": 68,
     "metadata": {},
     "output_type": "execute_result"
    },
    {
     "data": {
      "image/png": "[encoded data removed]",
      "text/plain": [
       "<Figure size 720x360 with 1 Axes>"
      ]
     },
     "metadata": {
      "needs_background": "light"
     },
     "output_type": "display_data"
    }
   ],
   "source": [
    "plt.figure(figsize=(10, 5))\n",
    "publisher[:10].plot(kind='bar', color='blue')\n",
    "plt.xlabel('Publisher') ; plt.ylabel('Cantidad de Juegos') ; plt.title('Top 10 Publishers')"
   ]
  },
  {
   "cell_type": "markdown",
   "metadata": {},
   "source": [
    "Obs: Kiss es una editora de juegos, que han publica indie games"
   ]
  },
  {
   "cell_type": "markdown",
   "metadata": {},
   "source": [
    "### EDA de user_reviews"
   ]
  },
  {
   "cell_type": "markdown",
   "metadata": {},
   "source": [
    "1. Extracción de datos"
   ]
  },
  {
   "cell_type": "code",
   "execution_count": 69,
   "metadata": {},
   "outputs": [
    {
     "data": {
      "text/html": [
       "<div>\n",
       "<style scoped>\n",
       "    .dataframe tbody tr th:only-of-type {\n",
       "        vertical-align: middle;\n",
       "    }\n",
       "\n",
       "    .dataframe tbody tr th {\n",
       "        vertical-align: top;\n",
       "    }\n",
       "\n",
       "    .dataframe thead th {\n",
       "        text-align: right;\n",
       "    }\n",
       "</style>\n",
       "<table border=\"1\" class=\"dataframe\">\n",
       "  <thead>\n",
       "    <tr style=\"text-align: right;\">\n",
       "      <th></th>\n",
       "      <th>user_id</th>\n",
       "      <th>item_id</th>\n",
       "      <th>helpful</th>\n",
       "      <th>recommend</th>\n",
       "      <th>year</th>\n",
       "      <th>sentiment_analisis</th>\n",
       "      <th>polaridad</th>\n",
       "    </tr>\n",
       "  </thead>\n",
       "  <tbody>\n",
       "    <tr>\n",
       "      <th>0</th>\n",
       "      <td>76561197970982479</td>\n",
       "      <td>1250</td>\n",
       "      <td>No ratings yet</td>\n",
       "      <td>True</td>\n",
       "      <td>2011</td>\n",
       "      <td>1</td>\n",
       "      <td>0.174444</td>\n",
       "    </tr>\n",
       "    <tr>\n",
       "      <th>1</th>\n",
       "      <td>76561197970982479</td>\n",
       "      <td>22200</td>\n",
       "      <td>No ratings yet</td>\n",
       "      <td>True</td>\n",
       "      <td>2011</td>\n",
       "      <td>2</td>\n",
       "      <td>0.337500</td>\n",
       "    </tr>\n",
       "  </tbody>\n",
       "</table>\n",
       "</div>"
      ],
      "text/plain": [
       "             user_id  item_id         helpful  recommend  year  \\\n",
       "0  76561197970982479     1250  No ratings yet       True  2011   \n",
       "1  76561197970982479    22200  No ratings yet       True  2011   \n",
       "\n",
       "   sentiment_analisis  polaridad  \n",
       "0                   1   0.174444  \n",
       "1                   2   0.337500  "
      ]
     },
     "execution_count": 69,
     "metadata": {},
     "output_type": "execute_result"
    }
   ],
   "source": [
    "user_re_1= pd.read_csv('data/reviews_9.csv', encoding='utf8')\n",
    "user_re_1.head(2)"
   ]
  },
  {
   "cell_type": "markdown",
   "metadata": {},
   "source": [
    "2. Revision nulos"
   ]
  },
  {
   "cell_type": "code",
   "execution_count": 70,
   "metadata": {},
   "outputs": [
    {
     "data": {
      "text/plain": [
       "user_id               0\n",
       "item_id               0\n",
       "helpful               0\n",
       "recommend             0\n",
       "year                  0\n",
       "sentiment_analisis    0\n",
       "polaridad             0\n",
       "dtype: int64"
      ]
     },
     "execution_count": 70,
     "metadata": {},
     "output_type": "execute_result"
    }
   ],
   "source": [
    "user_re_1.isnull().sum()"
   ]
  },
  {
   "cell_type": "markdown",
   "metadata": {},
   "source": [
    "3. Revision de variables\n",
    "- **user_id** : identificación del usuario de plataforma\n",
    "- **recommend** : valor booleano que indica si se ha realizado review\n",
    "- **sentiment_analisis** : clasificación de las reviews en:\n",
    "\n",
    "    - positivo = 2 \n",
    "    - negativo = 0 \n",
    "    - neutral = 1"
   ]
  },
  {
   "cell_type": "markdown",
   "metadata": {},
   "source": [
    "3.1 User"
   ]
  },
  {
   "cell_type": "code",
   "execution_count": 72,
   "metadata": {},
   "outputs": [
    {
     "data": {
      "text/plain": [
       "25467"
      ]
     },
     "execution_count": 72,
     "metadata": {},
     "output_type": "execute_result"
    }
   ],
   "source": [
    "cantidad_user_reviews= len(user_re_1[\"user_id\"].unique())\n",
    "cantidad_user_reviews #hay 25.467 usuarios registrados"
   ]
  },
  {
   "cell_type": "markdown",
   "metadata": {},
   "source": [
    "3.2 Recommend "
   ]
  },
  {
   "cell_type": "code",
   "execution_count": 73,
   "metadata": {},
   "outputs": [
    {
     "data": {
      "text/plain": [
       "True     52473\n",
       "False     6832\n",
       "Name: recommend, dtype: int64"
      ]
     },
     "execution_count": 73,
     "metadata": {},
     "output_type": "execute_result"
    }
   ],
   "source": [
    "cant_recomendacion= user_re_1[\"recommend\"].value_counts()\n",
    "cant_recomendacion #esta variable se usa en las funciones para calcular la cantidad de recomendaciones por genero"
   ]
  },
  {
   "cell_type": "markdown",
   "metadata": {},
   "source": [
    "3.3 Análisis de sentimientos"
   ]
  },
  {
   "cell_type": "code",
   "execution_count": 74,
   "metadata": {},
   "outputs": [
    {
     "data": {
      "text/plain": [
       "1    40269\n",
       "2    15349\n",
       "0     3687\n",
       "Name: sentiment_analisis, dtype: int64"
      ]
     },
     "execution_count": 74,
     "metadata": {},
     "output_type": "execute_result"
    }
   ],
   "source": [
    "cant_sent= user_re_1[\"sentiment_analisis\"].value_counts()\n",
    "cant_sent #la funcion de polaridad, tiene la particularidad de no ser muy exacto, por lo cual en funcion de ciertas palabras claves\n",
    "#se define la polaridad."
   ]
  },
  {
   "cell_type": "markdown",
   "metadata": {},
   "source": [
    "### EDA de user_items"
   ]
  },
  {
   "cell_type": "markdown",
   "metadata": {},
   "source": [
    "1. Extracción de datos"
   ]
  },
  {
   "cell_type": "code",
   "execution_count": 75,
   "metadata": {},
   "outputs": [
    {
     "data": {
      "text/html": [
       "<div>\n",
       "<style scoped>\n",
       "    .dataframe tbody tr th:only-of-type {\n",
       "        vertical-align: middle;\n",
       "    }\n",
       "\n",
       "    .dataframe tbody tr th {\n",
       "        vertical-align: top;\n",
       "    }\n",
       "\n",
       "    .dataframe thead th {\n",
       "        text-align: right;\n",
       "    }\n",
       "</style>\n",
       "<table border=\"1\" class=\"dataframe\">\n",
       "  <thead>\n",
       "    <tr style=\"text-align: right;\">\n",
       "      <th></th>\n",
       "      <th>item_id</th>\n",
       "      <th>item_name</th>\n",
       "      <th>playtime_forever</th>\n",
       "      <th>user_id</th>\n",
       "      <th>steam_id</th>\n",
       "      <th>items_count</th>\n",
       "    </tr>\n",
       "  </thead>\n",
       "  <tbody>\n",
       "    <tr>\n",
       "      <th>0</th>\n",
       "      <td>10</td>\n",
       "      <td>Counter-Strike</td>\n",
       "      <td>6</td>\n",
       "      <td>76561197970982479</td>\n",
       "      <td>76561197970982479</td>\n",
       "      <td>277</td>\n",
       "    </tr>\n",
       "    <tr>\n",
       "      <th>1</th>\n",
       "      <td>20</td>\n",
       "      <td>Team Fortress Classic</td>\n",
       "      <td>0</td>\n",
       "      <td>76561197970982479</td>\n",
       "      <td>76561197970982479</td>\n",
       "      <td>277</td>\n",
       "    </tr>\n",
       "  </tbody>\n",
       "</table>\n",
       "</div>"
      ],
      "text/plain": [
       "   item_id              item_name  playtime_forever            user_id  \\\n",
       "0       10         Counter-Strike                 6  76561197970982479   \n",
       "1       20  Team Fortress Classic                 0  76561197970982479   \n",
       "\n",
       "            steam_id  items_count  \n",
       "0  76561197970982479          277  \n",
       "1  76561197970982479          277  "
      ]
     },
     "execution_count": 75,
     "metadata": {},
     "output_type": "execute_result"
    }
   ],
   "source": [
    "user_item_1= pd.read_csv('data/items_3.csv', encoding='utf8')\n",
    "user_item_1.head(2)"
   ]
  },
  {
   "cell_type": "markdown",
   "metadata": {},
   "source": [
    "2. Revision de nulos"
   ]
  },
  {
   "cell_type": "code",
   "execution_count": 76,
   "metadata": {},
   "outputs": [
    {
     "data": {
      "text/plain": [
       "item_id             0\n",
       "item_name           0\n",
       "playtime_forever    0\n",
       "user_id             0\n",
       "steam_id            0\n",
       "items_count         0\n",
       "dtype: int64"
      ]
     },
     "execution_count": 76,
     "metadata": {},
     "output_type": "execute_result"
    }
   ],
   "source": [
    "user_item_1.isnull().sum()"
   ]
  },
  {
   "cell_type": "markdown",
   "metadata": {},
   "source": [
    "3. Revision de variables"
   ]
  },
  {
   "cell_type": "code",
   "execution_count": 77,
   "metadata": {},
   "outputs": [
    {
     "name": "stdout",
     "output_type": "stream",
     "text": [
      "<class 'pandas.core.frame.DataFrame'>\n",
      "RangeIndex: 5153209 entries, 0 to 5153208\n",
      "Data columns (total 6 columns):\n",
      " #   Column            Dtype \n",
      "---  ------            ----- \n",
      " 0   item_id           int64 \n",
      " 1   item_name         object\n",
      " 2   playtime_forever  int64 \n",
      " 3   user_id           object\n",
      " 4   steam_id          int64 \n",
      " 5   items_count       int64 \n",
      "dtypes: int64(4), object(2)\n",
      "memory usage: 235.9+ MB\n"
     ]
    }
   ],
   "source": [
    "user_item_1.info()"
   ]
  },
  {
   "cell_type": "markdown",
   "metadata": {},
   "source": [
    "3.1 item_name"
   ]
  },
  {
   "cell_type": "code",
   "execution_count": 80,
   "metadata": {},
   "outputs": [
    {
     "data": {
      "text/plain": [
       "Dota 2 Test                            49571\n",
       "Counter-Strike: Global Offensive       43776\n",
       "Garry's Mod                            43301\n",
       "Unturned                               38682\n",
       "Left 4 Dead 2                          37044\n",
       "                                       ...  \n",
       "My Own Pet                                 1\n",
       "Medieval Battlefields Black Edition        1\n",
       "Football VR                                1\n",
       "Tower Dwellers                             1\n",
       "Arachnophobia                              1\n",
       "Name: item_name, Length: 10947, dtype: int64"
      ]
     },
     "execution_count": 80,
     "metadata": {},
     "output_type": "execute_result"
    }
   ],
   "source": [
    "#conteo por titulo \n",
    "juego = user_item_1[\"item_name\"].value_counts()\n",
    "juego # el juego mas repetido es dota 2 test, esto puede ser la cantidad de usuarios que juegan, o comentan"
   ]
  },
  {
   "cell_type": "code",
   "execution_count": 79,
   "metadata": {},
   "outputs": [
    {
     "data": {
      "text/plain": [
       "10947"
      ]
     },
     "execution_count": 79,
     "metadata": {},
     "output_type": "execute_result"
    }
   ],
   "source": [
    "cant_juegos= len(user_item_1[\"item_name\"].unique())\n",
    "cant_juegos # en steam hay 10.947 juegos"
   ]
  },
  {
   "cell_type": "markdown",
   "metadata": {},
   "source": [
    "3.2 items_count"
   ]
  },
  {
   "cell_type": "code",
   "execution_count": 82,
   "metadata": {},
   "outputs": [
    {
     "data": {
      "text/html": [
       "<div>\n",
       "<style scoped>\n",
       "    .dataframe tbody tr th:only-of-type {\n",
       "        vertical-align: middle;\n",
       "    }\n",
       "\n",
       "    .dataframe tbody tr th {\n",
       "        vertical-align: top;\n",
       "    }\n",
       "\n",
       "    .dataframe thead th {\n",
       "        text-align: right;\n",
       "    }\n",
       "</style>\n",
       "<table border=\"1\" class=\"dataframe\">\n",
       "  <thead>\n",
       "    <tr style=\"text-align: right;\">\n",
       "      <th></th>\n",
       "      <th>items_count</th>\n",
       "    </tr>\n",
       "    <tr>\n",
       "      <th>user_id</th>\n",
       "      <th></th>\n",
       "    </tr>\n",
       "  </thead>\n",
       "  <tbody>\n",
       "    <tr>\n",
       "      <th>phrostb</th>\n",
       "      <td>[7762]</td>\n",
       "    </tr>\n",
       "    <tr>\n",
       "      <th>thugnificent</th>\n",
       "      <td>[6700]</td>\n",
       "    </tr>\n",
       "    <tr>\n",
       "      <th>chidvd</th>\n",
       "      <td>[6410]</td>\n",
       "    </tr>\n",
       "    <tr>\n",
       "      <th>piepai</th>\n",
       "      <td>[6132]</td>\n",
       "    </tr>\n",
       "    <tr>\n",
       "      <th>mayshowganmore</th>\n",
       "      <td>[5027]</td>\n",
       "    </tr>\n",
       "    <tr>\n",
       "      <th>...</th>\n",
       "      <td>...</td>\n",
       "    </tr>\n",
       "    <tr>\n",
       "      <th>76561198092978311</th>\n",
       "      <td>[1]</td>\n",
       "    </tr>\n",
       "    <tr>\n",
       "      <th>76561198092984441</th>\n",
       "      <td>[1]</td>\n",
       "    </tr>\n",
       "    <tr>\n",
       "      <th>76561198092985047</th>\n",
       "      <td>[1]</td>\n",
       "    </tr>\n",
       "    <tr>\n",
       "      <th>76561198092995747</th>\n",
       "      <td>[1]</td>\n",
       "    </tr>\n",
       "    <tr>\n",
       "      <th>JMCaesar</th>\n",
       "      <td>[1]</td>\n",
       "    </tr>\n",
       "  </tbody>\n",
       "</table>\n",
       "<p>70912 rows × 1 columns</p>\n",
       "</div>"
      ],
      "text/plain": [
       "                  items_count\n",
       "user_id                      \n",
       "phrostb                [7762]\n",
       "thugnificent           [6700]\n",
       "chidvd                 [6410]\n",
       "piepai                 [6132]\n",
       "mayshowganmore         [5027]\n",
       "...                       ...\n",
       "76561198092978311         [1]\n",
       "76561198092984441         [1]\n",
       "76561198092985047         [1]\n",
       "76561198092995747         [1]\n",
       "JMCaesar                  [1]\n",
       "\n",
       "[70912 rows x 1 columns]"
      ]
     },
     "execution_count": 82,
     "metadata": {},
     "output_type": "execute_result"
    }
   ],
   "source": [
    "# Agrupa por usuario la cantidad de items, lo conviente en data frame y los ordena de mayor a menor\n",
    "items_count = user_item_1.groupby('user_id')['items_count'].unique()\n",
    "items_count= pd.DataFrame(items_count)\n",
    "items_count_user = items_count.sort_values('items_count', ascending=False)\n",
    "items_count_user # no se que tan consistente es decir que un usuario juega cerca de 7762 juegos, por lo pronto descarto la variable"
   ]
  },
  {
   "cell_type": "markdown",
   "metadata": {},
   "source": [
    "3.3 playtime_forever"
   ]
  },
  {
   "cell_type": "code",
   "execution_count": 83,
   "metadata": {},
   "outputs": [
    {
     "data": {
      "text/html": [
       "<div>\n",
       "<style scoped>\n",
       "    .dataframe tbody tr th:only-of-type {\n",
       "        vertical-align: middle;\n",
       "    }\n",
       "\n",
       "    .dataframe tbody tr th {\n",
       "        vertical-align: top;\n",
       "    }\n",
       "\n",
       "    .dataframe thead th {\n",
       "        text-align: right;\n",
       "    }\n",
       "</style>\n",
       "<table border=\"1\" class=\"dataframe\">\n",
       "  <thead>\n",
       "    <tr style=\"text-align: right;\">\n",
       "      <th></th>\n",
       "      <th>playtime_forever</th>\n",
       "    </tr>\n",
       "    <tr>\n",
       "      <th>user_id</th>\n",
       "      <th></th>\n",
       "    </tr>\n",
       "  </thead>\n",
       "  <tbody>\n",
       "    <tr>\n",
       "      <th>wolop</th>\n",
       "      <td>642773</td>\n",
       "    </tr>\n",
       "    <tr>\n",
       "      <th>Evilutional</th>\n",
       "      <td>635295</td>\n",
       "    </tr>\n",
       "    <tr>\n",
       "      <th>76561198019826668</th>\n",
       "      <td>632452</td>\n",
       "    </tr>\n",
       "    <tr>\n",
       "      <th>76561198039832932</th>\n",
       "      <td>613411</td>\n",
       "    </tr>\n",
       "    <tr>\n",
       "      <th>tsunamitad</th>\n",
       "      <td>600068</td>\n",
       "    </tr>\n",
       "    <tr>\n",
       "      <th>...</th>\n",
       "      <td>...</td>\n",
       "    </tr>\n",
       "    <tr>\n",
       "      <th>76561198031798372</th>\n",
       "      <td>0</td>\n",
       "    </tr>\n",
       "    <tr>\n",
       "      <th>Cjixeres</th>\n",
       "      <td>0</td>\n",
       "    </tr>\n",
       "    <tr>\n",
       "      <th>76561198085797241</th>\n",
       "      <td>0</td>\n",
       "    </tr>\n",
       "    <tr>\n",
       "      <th>nbohlsen</th>\n",
       "      <td>0</td>\n",
       "    </tr>\n",
       "    <tr>\n",
       "      <th>theonemlst</th>\n",
       "      <td>0</td>\n",
       "    </tr>\n",
       "  </tbody>\n",
       "</table>\n",
       "<p>2890282 rows × 1 columns</p>\n",
       "</div>"
      ],
      "text/plain": [
       "                  playtime_forever\n",
       "user_id                           \n",
       "wolop                       642773\n",
       "Evilutional                 635295\n",
       "76561198019826668           632452\n",
       "76561198039832932           613411\n",
       "tsunamitad                  600068\n",
       "...                            ...\n",
       "76561198031798372                0\n",
       "Cjixeres                         0\n",
       "76561198085797241                0\n",
       "nbohlsen                         0\n",
       "theonemlst                       0\n",
       "\n",
       "[2890282 rows x 1 columns]"
      ]
     },
     "execution_count": 83,
     "metadata": {},
     "output_type": "execute_result"
    }
   ],
   "source": [
    "time_count = user_item_1.groupby('user_id')['playtime_forever'].unique().explode()\n",
    "time_count= pd.DataFrame(time_count)\n",
    "time_count_user = time_count.sort_values('playtime_forever', ascending=False)\n",
    "time_count_user"
   ]
  },
  {
   "cell_type": "markdown",
   "metadata": {},
   "source": [
    "En teoria playtime_forever es minutos, con lo cual wolop aproximadamente jugo 442 dias seguidos, 24 hs para tener un aproximado, y le sigue evilutional con 441 dias."
   ]
  },
  {
   "cell_type": "markdown",
   "metadata": {},
   "source": [
    "Tras analizar las variables de todas las tablas, se considera solamente usar el genero para el sistema de recomendación, con lo cual se procede a unificar solamente las tablas y variables necesarias para ello, para una mayor optimización de la api."
   ]
  },
  {
   "cell_type": "code",
   "execution_count": 84,
   "metadata": {},
   "outputs": [],
   "source": [
    "modelo_item= games_2[[\"item_id\", \"app_name\", \"genres\"]]"
   ]
  },
  {
   "cell_type": "code",
   "execution_count": 85,
   "metadata": {},
   "outputs": [],
   "source": [
    "modelo_item_csv = \"data/modelo_item.csv\"\n",
    "modelo_item.to_csv(modelo_item_csv , index=False, encoding=\"utf-8\")"
   ]
  }
 ],
 "metadata": {
  "kernelspec": {
   "display_name": "base",
   "language": "python",
   "name": "python3"
  },
  "language_info": {
   "codemirror_mode": {
    "name": "ipython",
    "version": 3
   },
   "file_extension": ".py",
   "mimetype": "text/x-python",
   "name": "python",
   "nbconvert_exporter": "python",
   "pygments_lexer": "ipython3",
   "version": "3.9.7"
  }
 },
 "nbformat": 4,
 "nbformat_minor": 2
}
