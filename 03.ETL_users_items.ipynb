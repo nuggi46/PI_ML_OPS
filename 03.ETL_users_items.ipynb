{
 "cells": [
  {
   "cell_type": "markdown",
   "metadata": {},
   "source": [
    "ELT user_items"
   ]
  },
  {
   "cell_type": "code",
   "execution_count": 1,
   "metadata": {},
   "outputs": [],
   "source": [
    "#Importando librerias\n",
    "import pandas as pd\n",
    "import numpy as np\n",
    "import ast\n",
    "import json\n",
    "import gzip"
   ]
  },
  {
   "cell_type": "markdown",
   "metadata": {},
   "source": [
    "1. Extracción de datos"
   ]
  },
  {
   "cell_type": "code",
   "execution_count": 2,
   "metadata": {},
   "outputs": [],
   "source": [
    "# Definimos una función leer_Json_gzip() que lee los archivos 'comprimidos.json.gz` y devuelve una lista de diccionarios Python.\n",
    "def leer_json_gzip(nombreArchivo):\n",
    "\n",
    "    # Abrimos el archivo users_items.json.gz en modo de lectura y decodificamos el contenido del archivo.\n",
    "    with gzip.open(nombreArchivo, 'rt', encoding='utf-8') as miArchivo:\n",
    "\n",
    "        # Recorremos el contenido del archivo y evaluamos cada línea como una expresión Python.\n",
    "        # El resultado de la evaluación es un diccionario Python.\n",
    "        # La función strip() elimina los espacios en blanco al principio y al final de la línea.\n",
    "        return [ast.literal_eval(line.strip()) for line in miArchivo]\n",
    "    #Usamos ast.literal_eval para convertir cada linea en un diccionario y lo agregamos a la lista"
   ]
  },
  {
   "cell_type": "code",
   "execution_count": 7,
   "metadata": {},
   "outputs": [],
   "source": [
    "items_1 = leer_json_gzip('data/users_items.json.gz')"
   ]
  },
  {
   "cell_type": "markdown",
   "metadata": {},
   "source": [
    "2. Exploración de datos"
   ]
  },
  {
   "cell_type": "code",
   "execution_count": 12,
   "metadata": {},
   "outputs": [
    {
     "data": {
      "text/html": [
       "<div>\n",
       "<style scoped>\n",
       "    .dataframe tbody tr th:only-of-type {\n",
       "        vertical-align: middle;\n",
       "    }\n",
       "\n",
       "    .dataframe tbody tr th {\n",
       "        vertical-align: top;\n",
       "    }\n",
       "\n",
       "    .dataframe thead th {\n",
       "        text-align: right;\n",
       "    }\n",
       "</style>\n",
       "<table border=\"1\" class=\"dataframe\">\n",
       "  <thead>\n",
       "    <tr style=\"text-align: right;\">\n",
       "      <th></th>\n",
       "      <th>item_id</th>\n",
       "      <th>item_name</th>\n",
       "      <th>playtime_forever</th>\n",
       "      <th>playtime_2weeks</th>\n",
       "      <th>user_id</th>\n",
       "      <th>steam_id</th>\n",
       "      <th>items_count</th>\n",
       "    </tr>\n",
       "  </thead>\n",
       "  <tbody>\n",
       "    <tr>\n",
       "      <th>0</th>\n",
       "      <td>10</td>\n",
       "      <td>Counter-Strike</td>\n",
       "      <td>6</td>\n",
       "      <td>0</td>\n",
       "      <td>76561197970982479</td>\n",
       "      <td>76561197970982479</td>\n",
       "      <td>277</td>\n",
       "    </tr>\n",
       "    <tr>\n",
       "      <th>1</th>\n",
       "      <td>20</td>\n",
       "      <td>Team Fortress Classic</td>\n",
       "      <td>0</td>\n",
       "      <td>0</td>\n",
       "      <td>76561197970982479</td>\n",
       "      <td>76561197970982479</td>\n",
       "      <td>277</td>\n",
       "    </tr>\n",
       "    <tr>\n",
       "      <th>2</th>\n",
       "      <td>30</td>\n",
       "      <td>Day of Defeat</td>\n",
       "      <td>7</td>\n",
       "      <td>0</td>\n",
       "      <td>76561197970982479</td>\n",
       "      <td>76561197970982479</td>\n",
       "      <td>277</td>\n",
       "    </tr>\n",
       "  </tbody>\n",
       "</table>\n",
       "</div>"
      ],
      "text/plain": [
       "  item_id              item_name  playtime_forever  playtime_2weeks  \\\n",
       "0      10         Counter-Strike                 6                0   \n",
       "1      20  Team Fortress Classic                 0                0   \n",
       "2      30          Day of Defeat                 7                0   \n",
       "\n",
       "             user_id           steam_id items_count  \n",
       "0  76561197970982479  76561197970982479         277  \n",
       "1  76561197970982479  76561197970982479         277  \n",
       "2  76561197970982479  76561197970982479         277  "
      ]
     },
     "execution_count": 12,
     "metadata": {},
     "output_type": "execute_result"
    }
   ],
   "source": [
    "items_2= pd.json_normalize(items_1, record_path=['items'], meta=['user_id', 'steam_id','items_count'] )\n",
    "items_2.head(3)\n",
    "#con esto desanido y pego las variablas que utilizare, es decir aprovecho y descarto user_usrl e items_count"
   ]
  },
  {
   "cell_type": "markdown",
   "metadata": {},
   "source": [
    "3. Revision de duplicados"
   ]
  },
  {
   "cell_type": "code",
   "execution_count": 13,
   "metadata": {},
   "outputs": [
    {
     "data": {
      "text/html": [
       "<div>\n",
       "<style scoped>\n",
       "    .dataframe tbody tr th:only-of-type {\n",
       "        vertical-align: middle;\n",
       "    }\n",
       "\n",
       "    .dataframe tbody tr th {\n",
       "        vertical-align: top;\n",
       "    }\n",
       "\n",
       "    .dataframe thead th {\n",
       "        text-align: right;\n",
       "    }\n",
       "</style>\n",
       "<table border=\"1\" class=\"dataframe\">\n",
       "  <thead>\n",
       "    <tr style=\"text-align: right;\">\n",
       "      <th></th>\n",
       "      <th>item_id</th>\n",
       "      <th>item_name</th>\n",
       "      <th>playtime_forever</th>\n",
       "      <th>playtime_2weeks</th>\n",
       "      <th>user_id</th>\n",
       "      <th>steam_id</th>\n",
       "      <th>items_count</th>\n",
       "    </tr>\n",
       "  </thead>\n",
       "  <tbody>\n",
       "    <tr>\n",
       "      <th>2712175</th>\n",
       "      <td>339280</td>\n",
       "      <td>Strife</td>\n",
       "      <td>93</td>\n",
       "      <td>0</td>\n",
       "      <td>05041129</td>\n",
       "      <td>76561198167088451</td>\n",
       "      <td>35</td>\n",
       "    </tr>\n",
       "    <tr>\n",
       "      <th>2712165</th>\n",
       "      <td>294160</td>\n",
       "      <td>Galcon 2</td>\n",
       "      <td>0</td>\n",
       "      <td>0</td>\n",
       "      <td>05041129</td>\n",
       "      <td>76561198167088451</td>\n",
       "      <td>35</td>\n",
       "    </tr>\n",
       "    <tr>\n",
       "      <th>2712166</th>\n",
       "      <td>298240</td>\n",
       "      <td>Red Crucible: Firestorm</td>\n",
       "      <td>7</td>\n",
       "      <td>0</td>\n",
       "      <td>05041129</td>\n",
       "      <td>76561198167088451</td>\n",
       "      <td>35</td>\n",
       "    </tr>\n",
       "    <tr>\n",
       "      <th>2712167</th>\n",
       "      <td>301520</td>\n",
       "      <td>Robocraft</td>\n",
       "      <td>16</td>\n",
       "      <td>0</td>\n",
       "      <td>05041129</td>\n",
       "      <td>76561198167088451</td>\n",
       "      <td>35</td>\n",
       "    </tr>\n",
       "    <tr>\n",
       "      <th>2712168</th>\n",
       "      <td>304930</td>\n",
       "      <td>Unturned</td>\n",
       "      <td>53</td>\n",
       "      <td>0</td>\n",
       "      <td>05041129</td>\n",
       "      <td>76561198167088451</td>\n",
       "      <td>35</td>\n",
       "    </tr>\n",
       "  </tbody>\n",
       "</table>\n",
       "</div>"
      ],
      "text/plain": [
       "        item_id                item_name  playtime_forever  playtime_2weeks  \\\n",
       "2712175  339280                   Strife                93                0   \n",
       "2712165  294160                 Galcon 2                 0                0   \n",
       "2712166  298240  Red Crucible: Firestorm                 7                0   \n",
       "2712167  301520                Robocraft                16                0   \n",
       "2712168  304930                 Unturned                53                0   \n",
       "\n",
       "          user_id           steam_id items_count  \n",
       "2712175  05041129  76561198167088451          35  \n",
       "2712165  05041129  76561198167088451          35  \n",
       "2712166  05041129  76561198167088451          35  \n",
       "2712167  05041129  76561198167088451          35  \n",
       "2712168  05041129  76561198167088451          35  "
      ]
     },
     "execution_count": 13,
     "metadata": {},
     "output_type": "execute_result"
    }
   ],
   "source": [
    "duplicados=items_2.loc[items_2.duplicated()]\n",
    "duplicados=duplicados.sort_values('user_id')\n",
    "duplicados.head(5)"
   ]
  },
  {
   "cell_type": "markdown",
   "metadata": {},
   "source": [
    "Obs: No elimino, ya que al un mismo usuario puede tener distintos juegos. Sería distinto si para un mismo usuario, se repiten los juegos"
   ]
  },
  {
   "cell_type": "markdown",
   "metadata": {},
   "source": [
    "4. Elimino las columnas que no necesito"
   ]
  },
  {
   "cell_type": "code",
   "execution_count": 14,
   "metadata": {},
   "outputs": [
    {
     "data": {
      "text/html": [
       "<div>\n",
       "<style scoped>\n",
       "    .dataframe tbody tr th:only-of-type {\n",
       "        vertical-align: middle;\n",
       "    }\n",
       "\n",
       "    .dataframe tbody tr th {\n",
       "        vertical-align: top;\n",
       "    }\n",
       "\n",
       "    .dataframe thead th {\n",
       "        text-align: right;\n",
       "    }\n",
       "</style>\n",
       "<table border=\"1\" class=\"dataframe\">\n",
       "  <thead>\n",
       "    <tr style=\"text-align: right;\">\n",
       "      <th></th>\n",
       "      <th>item_id</th>\n",
       "      <th>item_name</th>\n",
       "      <th>playtime_forever</th>\n",
       "      <th>user_id</th>\n",
       "      <th>steam_id</th>\n",
       "      <th>items_count</th>\n",
       "    </tr>\n",
       "  </thead>\n",
       "  <tbody>\n",
       "    <tr>\n",
       "      <th>0</th>\n",
       "      <td>10</td>\n",
       "      <td>Counter-Strike</td>\n",
       "      <td>6</td>\n",
       "      <td>76561197970982479</td>\n",
       "      <td>76561197970982479</td>\n",
       "      <td>277</td>\n",
       "    </tr>\n",
       "    <tr>\n",
       "      <th>1</th>\n",
       "      <td>20</td>\n",
       "      <td>Team Fortress Classic</td>\n",
       "      <td>0</td>\n",
       "      <td>76561197970982479</td>\n",
       "      <td>76561197970982479</td>\n",
       "      <td>277</td>\n",
       "    </tr>\n",
       "  </tbody>\n",
       "</table>\n",
       "</div>"
      ],
      "text/plain": [
       "  item_id              item_name  playtime_forever            user_id  \\\n",
       "0      10         Counter-Strike                 6  76561197970982479   \n",
       "1      20  Team Fortress Classic                 0  76561197970982479   \n",
       "\n",
       "            steam_id items_count  \n",
       "0  76561197970982479         277  \n",
       "1  76561197970982479         277  "
      ]
     },
     "execution_count": 14,
     "metadata": {},
     "output_type": "execute_result"
    }
   ],
   "source": [
    "items_3 = items_2.drop(columns=[\"playtime_2weeks\"])\n",
    "items_3.head(2)"
   ]
  },
  {
   "cell_type": "markdown",
   "metadata": {},
   "source": [
    "5. Guardo el dataset para su uso posterior"
   ]
  },
  {
   "cell_type": "code",
   "execution_count": 15,
   "metadata": {},
   "outputs": [],
   "source": [
    "items_3_csv = \"data/items_3.csv\"\n",
    "items_3.to_csv(items_3_csv , index=False, encoding=\"utf-8\")"
   ]
  }
 ],
 "metadata": {
  "kernelspec": {
   "display_name": "base",
   "language": "python",
   "name": "python3"
  },
  "language_info": {
   "codemirror_mode": {
    "name": "ipython",
    "version": 3
   },
   "file_extension": ".py",
   "mimetype": "text/x-python",
   "name": "python",
   "nbconvert_exporter": "python",
   "pygments_lexer": "ipython3",
   "version": "3.9.7"
  }
 },
 "nbformat": 4,
 "nbformat_minor": 2
}
